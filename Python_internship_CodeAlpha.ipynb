{
  "nbformat": 4,
  "nbformat_minor": 0,
  "metadata": {
    "colab": {
      "provenance": [],
      "authorship_tag": "ABX9TyOQkfn51AlJgPWUSnFAHwRb",
      "include_colab_link": true
    },
    "kernelspec": {
      "name": "python3",
      "display_name": "Python 3"
    },
    "language_info": {
      "name": "python"
    }
  },
  "cells": [
    {
      "cell_type": "markdown",
      "metadata": {
        "id": "view-in-github",
        "colab_type": "text"
      },
      "source": [
        "<a href=\"https://colab.research.google.com/github/AnushkaTandon26/CodeAlpha_Python-Internship/blob/main/Python_internship_CodeAlpha.ipynb\" target=\"_parent\"><img src=\"https://colab.research.google.com/assets/colab-badge.svg\" alt=\"Open In Colab\"/></a>"
      ]
    },
    {
      "cell_type": "code",
      "execution_count": null,
      "metadata": {
        "colab": {
          "base_uri": "https://localhost:8080/"
        },
        "id": "zlUJS_JeLABQ",
        "outputId": "da2c0ba2-10a5-45e7-da93-51306cf86a07"
      },
      "outputs": [
        {
          "output_type": "stream",
          "name": "stdout",
          "text": [
            "Welcome to Hangman!\n",
            "You have 6 incorrect guesses allowed.\n",
            "Word: _ _ _ _ _ _ _\n",
            "Guess a letter: python\n",
            "Invalid input. Please enter a single letter.\n",
            "Guess a letter: python\n",
            "Invalid input. Please enter a single letter.\n",
            "Guess a letter: h\n",
            "Good guess! h is in the word.\n",
            "Word: h _ _ _ _ _ _\n",
            "Guess a letter: a\n",
            "Good guess! a is in the word.\n",
            "Word: h a _ _ _ a _\n",
            "Guess a letter: n\n",
            "Good guess! n is in the word.\n",
            "Word: h a n _ _ a n\n",
            "Guess a letter: g\n",
            "Good guess! g is in the word.\n",
            "Word: h a n g _ a n\n",
            "Guess a letter: m\n",
            "Good guess! m is in the word.\n",
            "Congratulations, you've guessed the word: hangman\n"
          ]
        }
      ],
      "source": [
        "# Python Internship CodeAlpha\n",
        "#hangman game Task 1\n",
        "import random\n",
        "\n",
        "# Word list for the game\n",
        "words = ['python', 'hangman', 'computer', 'programming', 'developer', 'code', 'algorithm', 'software']\n",
        "\n",
        "# Function to choose a random word\n",
        "def choose_word():\n",
        "    return random.choice(words)\n",
        "\n",
        "# Function to display the current state of the word\n",
        "def display_word(word_guessed):\n",
        "    print(\"Word:\", \" \".join(word_guessed))\n",
        "\n",
        "# Function to get the user's guess\n",
        "def guess_letter():\n",
        "    guess = input(\"Guess a letter: \").lower()\n",
        "    while len(guess) != 1 or not guess.isalpha():  # Ensure only one letter is entered\n",
        "        print(\"Invalid input. Please enter a single letter.\")\n",
        "        guess = input(\"Guess a letter: \").lower()\n",
        "    return guess\n",
        "\n",
        "# Main function to run the hangman game\n",
        "def hangman():\n",
        "    word = choose_word()  # Select a random word\n",
        "    word_guessed = ['_'] * len(word)  # List to hold the current state of the guessed word\n",
        "    guessed_letters = []  # Track guessed letters\n",
        "    incorrect_guesses = 0  # Track the number of incorrect guesses\n",
        "    max_incorrect_guesses = 6  # Maximum number of incorrect guesses allowed\n",
        "\n",
        "    print(\"Welcome to Hangman!\")\n",
        "    print(f\"You have {max_incorrect_guesses} incorrect guesses allowed.\")\n",
        "\n",
        "    # Game loop\n",
        "    while incorrect_guesses < max_incorrect_guesses:\n",
        "        display_word(word_guessed)\n",
        "\n",
        "        guess = guess_letter()\n",
        "\n",
        "        # If the letter was already guessed\n",
        "        if guess in guessed_letters:\n",
        "            print(f\"You've already guessed {guess}. Try again.\")\n",
        "            continue\n",
        "\n",
        "        guessed_letters.append(guess)\n",
        "\n",
        "        # Check if the guess is in the word\n",
        "        if guess in word:\n",
        "            print(f\"Good guess! {guess} is in the word.\")\n",
        "            # Update word_guessed to reflect the correct guess\n",
        "            for i in range(len(word)):\n",
        "                if word[i] == guess:\n",
        "                    word_guessed[i] = guess\n",
        "        else:\n",
        "            incorrect_guesses += 1\n",
        "            print(f\"Incorrect guess. You have {max_incorrect_guesses - incorrect_guesses} attempts left.\")\n",
        "\n",
        "        # Check if the player has won\n",
        "        if \"_\" not in word_guessed:\n",
        "            print(f\"Congratulations, you've guessed the word: {word}\")\n",
        "            break\n",
        "    else:\n",
        "        print(f\"Game over! You've used all your incorrect guesses. The word was: {word}\")\n",
        "\n",
        "# Run the game\n",
        "if __name__ == \"__main__\":\n",
        "    hangman()\n"
      ]
    },
    {
      "cell_type": "code",
      "source": [
        "# Stock Portfolio Tracker Task 2"
      ],
      "metadata": {
        "id": "b2IQpoYhd1Mz"
      },
      "execution_count": null,
      "outputs": []
    },
    {
      "cell_type": "code",
      "source": [
        "!pip install requests pandas\n"
      ],
      "metadata": {
        "colab": {
          "base_uri": "https://localhost:8080/"
        },
        "id": "kjVTZvDxOcln",
        "outputId": "445933b7-553d-461c-a505-b1b47cde085e"
      },
      "execution_count": null,
      "outputs": [
        {
          "output_type": "stream",
          "name": "stdout",
          "text": [
            "Requirement already satisfied: requests in /usr/local/lib/python3.11/dist-packages (2.32.3)\n",
            "Requirement already satisfied: pandas in /usr/local/lib/python3.11/dist-packages (2.2.2)\n",
            "Requirement already satisfied: charset-normalizer<4,>=2 in /usr/local/lib/python3.11/dist-packages (from requests) (3.4.1)\n",
            "Requirement already satisfied: idna<4,>=2.5 in /usr/local/lib/python3.11/dist-packages (from requests) (3.10)\n",
            "Requirement already satisfied: urllib3<3,>=1.21.1 in /usr/local/lib/python3.11/dist-packages (from requests) (2.3.0)\n",
            "Requirement already satisfied: certifi>=2017.4.17 in /usr/local/lib/python3.11/dist-packages (from requests) (2024.12.14)\n",
            "Requirement already satisfied: numpy>=1.23.2 in /usr/local/lib/python3.11/dist-packages (from pandas) (1.26.4)\n",
            "Requirement already satisfied: python-dateutil>=2.8.2 in /usr/local/lib/python3.11/dist-packages (from pandas) (2.8.2)\n",
            "Requirement already satisfied: pytz>=2020.1 in /usr/local/lib/python3.11/dist-packages (from pandas) (2024.2)\n",
            "Requirement already satisfied: tzdata>=2022.7 in /usr/local/lib/python3.11/dist-packages (from pandas) (2024.2)\n",
            "Requirement already satisfied: six>=1.5 in /usr/local/lib/python3.11/dist-packages (from python-dateutil>=2.8.2->pandas) (1.17.0)\n"
          ]
        }
      ]
    },
    {
      "cell_type": "code",
      "source": [
        "API_KEY = 'WH88WY4AG1IZLJ8P'  # Replace with your actual API key\n"
      ],
      "metadata": {
        "id": "KzyPvWCKO9R_"
      },
      "execution_count": null,
      "outputs": []
    },
    {
      "cell_type": "code",
      "source": [
        "import requests\n",
        "import pandas as pd\n",
        "\n",
        "# Alpha Vantage API details\n",
        "API_KEY = 'WH88WY4AG1IZLJ8P'  # Replace with your actual API key\n",
        "BASE_URL = 'https://www.alphavantage.co/query'\n",
        "\n",
        "# Portfolio data\n",
        "portfolio = {}\n",
        "\n",
        "# Function to fetch real-time stock data\n",
        "def get_stock_data(symbol):\n",
        "    try:\n",
        "        # Construct the URL for Alpha Vantage API request\n",
        "        url = f\"{BASE_URL}?function=TIME_SERIES_INTRADAY&symbol={symbol}&interval=5min&apikey={API_KEY}\"\n",
        "        response = requests.get(url)\n",
        "        data = response.json()\n",
        "\n",
        "        # Check if the data returned is valid\n",
        "        if 'Time Series (5min)' in data:\n",
        "            # Get the latest time series data\n",
        "            latest_time = list(data['Time Series (5min)'].keys())[0]\n",
        "            latest_data = data['Time Series (5min)'][latest_time]\n",
        "            price = float(latest_data['4. close'])\n",
        "            return price\n",
        "        else:\n",
        "            print(f\"Error fetching data for {symbol}. Please check the symbol.\")\n",
        "            return None\n",
        "    except Exception as e:\n",
        "        print(f\"An error occurred: {e}\")\n",
        "        return None\n",
        "\n",
        "# Function to add a stock to the portfolio\n",
        "def add_stock(symbol, quantity):\n",
        "    price = get_stock_data(symbol)\n",
        "    if price is not None:\n",
        "        if symbol not in portfolio:\n",
        "            portfolio[symbol] = {'quantity': 0, 'total_investment': 0}\n",
        "        portfolio[symbol]['quantity'] += quantity\n",
        "        portfolio[symbol]['total_investment'] += price * quantity\n",
        "        print(f\"Added {quantity} shares of {symbol} to your portfolio.\")\n",
        "    else:\n",
        "        print(f\"Could not add stock {symbol} to the portfolio.\")\n",
        "\n",
        "# Function to remove a stock from the portfolio\n",
        "def remove_stock(symbol, quantity):\n",
        "    if symbol in portfolio and portfolio[symbol]['quantity'] >= quantity:\n",
        "        portfolio[symbol]['quantity'] -= quantity\n",
        "        portfolio[symbol]['total_investment'] -= get_stock_data(symbol) * quantity\n",
        "        print(f\"Removed {quantity} shares of {symbol} from your portfolio.\")\n",
        "    else:\n",
        "        print(f\"Not enough {symbol} shares to remove or stock not in portfolio.\")\n",
        "\n",
        "# Function to display the portfolio and stock performance\n",
        "def display_portfolio():\n",
        "    print(\"\\nYour Stock Portfolio:\")\n",
        "    for symbol, data in portfolio.items():\n",
        "        current_price = get_stock_data(symbol)\n",
        "        if current_price is not None:\n",
        "            current_value = current_price * data['quantity']\n",
        "            print(f\"\\nStock: {symbol}\")\n",
        "            print(f\"Quantity: {data['quantity']}\")\n",
        "            print(f\"Total Investment: ${data['total_investment']:.2f}\")\n",
        "            print(f\"Current Price: ${current_price:.2f}\")\n",
        "            print(f\"Current Value: ${current_value:.2f}\")\n",
        "            print(f\"Profit/Loss: ${current_value - data['total_investment']:.2f}\")\n",
        "        else:\n",
        "            print(f\"Error fetching data for {symbol}\")\n",
        "\n",
        "# Main function to interact with the user\n",
        "def main():\n",
        "    while True:\n",
        "        print(\"\\nOptions:\")\n",
        "        print(\"1. Add Stock to Portfolio\")\n",
        "        print(\"2. Remove Stock from Portfolio\")\n",
        "        print(\"3. Display Portfolio\")\n",
        "        print(\"4. Exit\")\n",
        "\n",
        "        choice = input(\"Choose an option: \")\n",
        "\n",
        "        if choice == '1':\n",
        "            symbol = input(\"Enter the stock symbol (e.g., AAPL, TSLA): \").upper()\n",
        "            quantity = int(input(\"Enter the quantity of stock: \"))\n",
        "            add_stock(symbol, quantity)\n",
        "        elif choice == '2':\n",
        "            symbol = input(\"Enter the stock symbol to remove: \").upper()\n",
        "            quantity = int(input(\"Enter the quantity of stock to remove: \"))\n",
        "            remove_stock(symbol, quantity)\n",
        "        elif choice == '3':\n",
        "            display_portfolio()\n",
        "        elif choice == '4':\n",
        "            print(\"Exiting program...\")\n",
        "            break\n",
        "        else:\n",
        "            print(\"Invalid option. Please try again.\")\n",
        "\n",
        "# Run the program\n",
        "if __name__ == \"__main__\":\n",
        "    main()\n"
      ],
      "metadata": {
        "colab": {
          "base_uri": "https://localhost:8080/"
        },
        "id": "UJAtQjflPJEK",
        "outputId": "c3d00cb0-c413-4740-983e-ceb1b00012a8"
      },
      "execution_count": null,
      "outputs": [
        {
          "output_type": "stream",
          "name": "stdout",
          "text": [
            "\n",
            "Options:\n",
            "1. Add Stock to Portfolio\n",
            "2. Remove Stock from Portfolio\n",
            "3. Display Portfolio\n",
            "4. Exit\n",
            "Choose an option: 1\n",
            "Enter the stock symbol (e.g., AAPL, TSLA): AAPL\n",
            "Enter the quantity of stock: 5\n",
            "Added 5 shares of AAPL to your portfolio.\n",
            "\n",
            "Options:\n",
            "1. Add Stock to Portfolio\n",
            "2. Remove Stock from Portfolio\n",
            "3. Display Portfolio\n",
            "4. Exit\n",
            "Choose an option: 3\n",
            "\n",
            "Your Stock Portfolio:\n",
            "\n",
            "Stock: AAPL\n",
            "Quantity: 5\n",
            "Total Investment: $1141.75\n",
            "Current Price: $228.35\n",
            "Current Value: $1141.75\n",
            "Profit/Loss: $0.00\n",
            "\n",
            "Options:\n",
            "1. Add Stock to Portfolio\n",
            "2. Remove Stock from Portfolio\n",
            "3. Display Portfolio\n",
            "4. Exit\n",
            "Choose an option: 2\n",
            "Enter the stock symbol to remove: AAPL\n",
            "Enter the quantity of stock to remove: 3\n",
            "Removed 3 shares of AAPL from your portfolio.\n",
            "\n",
            "Options:\n",
            "1. Add Stock to Portfolio\n",
            "2. Remove Stock from Portfolio\n",
            "3. Display Portfolio\n",
            "4. Exit\n",
            "Choose an option: 3\n",
            "\n",
            "Your Stock Portfolio:\n",
            "\n",
            "Stock: AAPL\n",
            "Quantity: 2\n",
            "Total Investment: $456.70\n",
            "Current Price: $228.35\n",
            "Current Value: $456.70\n",
            "Profit/Loss: $-0.00\n",
            "\n",
            "Options:\n",
            "1. Add Stock to Portfolio\n",
            "2. Remove Stock from Portfolio\n",
            "3. Display Portfolio\n",
            "4. Exit\n",
            "Choose an option: 4\n",
            "Exiting program...\n"
          ]
        }
      ]
    },
    {
      "cell_type": "code",
      "source": [
        "#basic chatbot using spaCy Task-3"
      ],
      "metadata": {
        "id": "XFB4LVK3djSO"
      },
      "execution_count": null,
      "outputs": []
    },
    {
      "cell_type": "code",
      "source": [
        "!pip install spacy\n"
      ],
      "metadata": {
        "colab": {
          "base_uri": "https://localhost:8080/"
        },
        "id": "Tq_aU91Ra8Z-",
        "outputId": "c283976d-ed57-46e0-b858-5a7cbb80da7c"
      },
      "execution_count": null,
      "outputs": [
        {
          "output_type": "stream",
          "name": "stdout",
          "text": [
            "Requirement already satisfied: spacy in /usr/local/lib/python3.11/dist-packages (3.7.5)\n",
            "Requirement already satisfied: spacy-legacy<3.1.0,>=3.0.11 in /usr/local/lib/python3.11/dist-packages (from spacy) (3.0.12)\n",
            "Requirement already satisfied: spacy-loggers<2.0.0,>=1.0.0 in /usr/local/lib/python3.11/dist-packages (from spacy) (1.0.5)\n",
            "Requirement already satisfied: murmurhash<1.1.0,>=0.28.0 in /usr/local/lib/python3.11/dist-packages (from spacy) (1.0.11)\n",
            "Requirement already satisfied: cymem<2.1.0,>=2.0.2 in /usr/local/lib/python3.11/dist-packages (from spacy) (2.0.10)\n",
            "Requirement already satisfied: preshed<3.1.0,>=3.0.2 in /usr/local/lib/python3.11/dist-packages (from spacy) (3.0.9)\n",
            "Requirement already satisfied: thinc<8.3.0,>=8.2.2 in /usr/local/lib/python3.11/dist-packages (from spacy) (8.2.5)\n",
            "Requirement already satisfied: wasabi<1.2.0,>=0.9.1 in /usr/local/lib/python3.11/dist-packages (from spacy) (1.1.3)\n",
            "Requirement already satisfied: srsly<3.0.0,>=2.4.3 in /usr/local/lib/python3.11/dist-packages (from spacy) (2.5.0)\n",
            "Requirement already satisfied: catalogue<2.1.0,>=2.0.6 in /usr/local/lib/python3.11/dist-packages (from spacy) (2.0.10)\n",
            "Requirement already satisfied: weasel<0.5.0,>=0.1.0 in /usr/local/lib/python3.11/dist-packages (from spacy) (0.4.1)\n",
            "Requirement already satisfied: typer<1.0.0,>=0.3.0 in /usr/local/lib/python3.11/dist-packages (from spacy) (0.15.1)\n",
            "Requirement already satisfied: tqdm<5.0.0,>=4.38.0 in /usr/local/lib/python3.11/dist-packages (from spacy) (4.67.1)\n",
            "Requirement already satisfied: requests<3.0.0,>=2.13.0 in /usr/local/lib/python3.11/dist-packages (from spacy) (2.32.3)\n",
            "Requirement already satisfied: pydantic!=1.8,!=1.8.1,<3.0.0,>=1.7.4 in /usr/local/lib/python3.11/dist-packages (from spacy) (2.10.5)\n",
            "Requirement already satisfied: jinja2 in /usr/local/lib/python3.11/dist-packages (from spacy) (3.1.5)\n",
            "Requirement already satisfied: setuptools in /usr/local/lib/python3.11/dist-packages (from spacy) (75.1.0)\n",
            "Requirement already satisfied: packaging>=20.0 in /usr/local/lib/python3.11/dist-packages (from spacy) (24.2)\n",
            "Requirement already satisfied: langcodes<4.0.0,>=3.2.0 in /usr/local/lib/python3.11/dist-packages (from spacy) (3.5.0)\n",
            "Requirement already satisfied: numpy>=1.19.0 in /usr/local/lib/python3.11/dist-packages (from spacy) (1.26.4)\n",
            "Requirement already satisfied: language-data>=1.2 in /usr/local/lib/python3.11/dist-packages (from langcodes<4.0.0,>=3.2.0->spacy) (1.3.0)\n",
            "Requirement already satisfied: annotated-types>=0.6.0 in /usr/local/lib/python3.11/dist-packages (from pydantic!=1.8,!=1.8.1,<3.0.0,>=1.7.4->spacy) (0.7.0)\n",
            "Requirement already satisfied: pydantic-core==2.27.2 in /usr/local/lib/python3.11/dist-packages (from pydantic!=1.8,!=1.8.1,<3.0.0,>=1.7.4->spacy) (2.27.2)\n",
            "Requirement already satisfied: typing-extensions>=4.12.2 in /usr/local/lib/python3.11/dist-packages (from pydantic!=1.8,!=1.8.1,<3.0.0,>=1.7.4->spacy) (4.12.2)\n",
            "Requirement already satisfied: charset-normalizer<4,>=2 in /usr/local/lib/python3.11/dist-packages (from requests<3.0.0,>=2.13.0->spacy) (3.4.1)\n",
            "Requirement already satisfied: idna<4,>=2.5 in /usr/local/lib/python3.11/dist-packages (from requests<3.0.0,>=2.13.0->spacy) (3.10)\n",
            "Requirement already satisfied: urllib3<3,>=1.21.1 in /usr/local/lib/python3.11/dist-packages (from requests<3.0.0,>=2.13.0->spacy) (2.3.0)\n",
            "Requirement already satisfied: certifi>=2017.4.17 in /usr/local/lib/python3.11/dist-packages (from requests<3.0.0,>=2.13.0->spacy) (2024.12.14)\n",
            "Requirement already satisfied: blis<0.8.0,>=0.7.8 in /usr/local/lib/python3.11/dist-packages (from thinc<8.3.0,>=8.2.2->spacy) (0.7.11)\n",
            "Requirement already satisfied: confection<1.0.0,>=0.0.1 in /usr/local/lib/python3.11/dist-packages (from thinc<8.3.0,>=8.2.2->spacy) (0.1.5)\n",
            "Requirement already satisfied: click>=8.0.0 in /usr/local/lib/python3.11/dist-packages (from typer<1.0.0,>=0.3.0->spacy) (8.1.8)\n",
            "Requirement already satisfied: shellingham>=1.3.0 in /usr/local/lib/python3.11/dist-packages (from typer<1.0.0,>=0.3.0->spacy) (1.5.4)\n",
            "Requirement already satisfied: rich>=10.11.0 in /usr/local/lib/python3.11/dist-packages (from typer<1.0.0,>=0.3.0->spacy) (13.9.4)\n",
            "Requirement already satisfied: cloudpathlib<1.0.0,>=0.7.0 in /usr/local/lib/python3.11/dist-packages (from weasel<0.5.0,>=0.1.0->spacy) (0.20.0)\n",
            "Requirement already satisfied: smart-open<8.0.0,>=5.2.1 in /usr/local/lib/python3.11/dist-packages (from weasel<0.5.0,>=0.1.0->spacy) (7.1.0)\n",
            "Requirement already satisfied: MarkupSafe>=2.0 in /usr/local/lib/python3.11/dist-packages (from jinja2->spacy) (3.0.2)\n",
            "Requirement already satisfied: marisa-trie>=1.1.0 in /usr/local/lib/python3.11/dist-packages (from language-data>=1.2->langcodes<4.0.0,>=3.2.0->spacy) (1.2.1)\n",
            "Requirement already satisfied: markdown-it-py>=2.2.0 in /usr/local/lib/python3.11/dist-packages (from rich>=10.11.0->typer<1.0.0,>=0.3.0->spacy) (3.0.0)\n",
            "Requirement already satisfied: pygments<3.0.0,>=2.13.0 in /usr/local/lib/python3.11/dist-packages (from rich>=10.11.0->typer<1.0.0,>=0.3.0->spacy) (2.18.0)\n",
            "Requirement already satisfied: wrapt in /usr/local/lib/python3.11/dist-packages (from smart-open<8.0.0,>=5.2.1->weasel<0.5.0,>=0.1.0->spacy) (1.17.0)\n",
            "Requirement already satisfied: mdurl~=0.1 in /usr/local/lib/python3.11/dist-packages (from markdown-it-py>=2.2.0->rich>=10.11.0->typer<1.0.0,>=0.3.0->spacy) (0.1.2)\n"
          ]
        }
      ]
    },
    {
      "cell_type": "code",
      "source": [
        "!python -m spacy download en_core_web_sm\n"
      ],
      "metadata": {
        "colab": {
          "base_uri": "https://localhost:8080/"
        },
        "id": "7RVWCTrVbSAz",
        "outputId": "bef8b6d9-da7b-4841-ad0e-fff0a7ba0183"
      },
      "execution_count": null,
      "outputs": [
        {
          "output_type": "stream",
          "name": "stdout",
          "text": [
            "Collecting en-core-web-sm==3.7.1\n",
            "  Downloading https://github.com/explosion/spacy-models/releases/download/en_core_web_sm-3.7.1/en_core_web_sm-3.7.1-py3-none-any.whl (12.8 MB)\n",
            "\u001b[2K     \u001b[90m━━━━━━━━━━━━━━━━━━━━━━━━━━━━━━━━━━━━━━━━\u001b[0m \u001b[32m12.8/12.8 MB\u001b[0m \u001b[31m81.2 MB/s\u001b[0m eta \u001b[36m0:00:00\u001b[0m\n",
            "\u001b[?25hRequirement already satisfied: spacy<3.8.0,>=3.7.2 in /usr/local/lib/python3.11/dist-packages (from en-core-web-sm==3.7.1) (3.7.5)\n",
            "Requirement already satisfied: spacy-legacy<3.1.0,>=3.0.11 in /usr/local/lib/python3.11/dist-packages (from spacy<3.8.0,>=3.7.2->en-core-web-sm==3.7.1) (3.0.12)\n",
            "Requirement already satisfied: spacy-loggers<2.0.0,>=1.0.0 in /usr/local/lib/python3.11/dist-packages (from spacy<3.8.0,>=3.7.2->en-core-web-sm==3.7.1) (1.0.5)\n",
            "Requirement already satisfied: murmurhash<1.1.0,>=0.28.0 in /usr/local/lib/python3.11/dist-packages (from spacy<3.8.0,>=3.7.2->en-core-web-sm==3.7.1) (1.0.11)\n",
            "Requirement already satisfied: cymem<2.1.0,>=2.0.2 in /usr/local/lib/python3.11/dist-packages (from spacy<3.8.0,>=3.7.2->en-core-web-sm==3.7.1) (2.0.10)\n",
            "Requirement already satisfied: preshed<3.1.0,>=3.0.2 in /usr/local/lib/python3.11/dist-packages (from spacy<3.8.0,>=3.7.2->en-core-web-sm==3.7.1) (3.0.9)\n",
            "Requirement already satisfied: thinc<8.3.0,>=8.2.2 in /usr/local/lib/python3.11/dist-packages (from spacy<3.8.0,>=3.7.2->en-core-web-sm==3.7.1) (8.2.5)\n",
            "Requirement already satisfied: wasabi<1.2.0,>=0.9.1 in /usr/local/lib/python3.11/dist-packages (from spacy<3.8.0,>=3.7.2->en-core-web-sm==3.7.1) (1.1.3)\n",
            "Requirement already satisfied: srsly<3.0.0,>=2.4.3 in /usr/local/lib/python3.11/dist-packages (from spacy<3.8.0,>=3.7.2->en-core-web-sm==3.7.1) (2.5.0)\n",
            "Requirement already satisfied: catalogue<2.1.0,>=2.0.6 in /usr/local/lib/python3.11/dist-packages (from spacy<3.8.0,>=3.7.2->en-core-web-sm==3.7.1) (2.0.10)\n",
            "Requirement already satisfied: weasel<0.5.0,>=0.1.0 in /usr/local/lib/python3.11/dist-packages (from spacy<3.8.0,>=3.7.2->en-core-web-sm==3.7.1) (0.4.1)\n",
            "Requirement already satisfied: typer<1.0.0,>=0.3.0 in /usr/local/lib/python3.11/dist-packages (from spacy<3.8.0,>=3.7.2->en-core-web-sm==3.7.1) (0.15.1)\n",
            "Requirement already satisfied: tqdm<5.0.0,>=4.38.0 in /usr/local/lib/python3.11/dist-packages (from spacy<3.8.0,>=3.7.2->en-core-web-sm==3.7.1) (4.67.1)\n",
            "Requirement already satisfied: requests<3.0.0,>=2.13.0 in /usr/local/lib/python3.11/dist-packages (from spacy<3.8.0,>=3.7.2->en-core-web-sm==3.7.1) (2.32.3)\n",
            "Requirement already satisfied: pydantic!=1.8,!=1.8.1,<3.0.0,>=1.7.4 in /usr/local/lib/python3.11/dist-packages (from spacy<3.8.0,>=3.7.2->en-core-web-sm==3.7.1) (2.10.5)\n",
            "Requirement already satisfied: jinja2 in /usr/local/lib/python3.11/dist-packages (from spacy<3.8.0,>=3.7.2->en-core-web-sm==3.7.1) (3.1.5)\n",
            "Requirement already satisfied: setuptools in /usr/local/lib/python3.11/dist-packages (from spacy<3.8.0,>=3.7.2->en-core-web-sm==3.7.1) (75.1.0)\n",
            "Requirement already satisfied: packaging>=20.0 in /usr/local/lib/python3.11/dist-packages (from spacy<3.8.0,>=3.7.2->en-core-web-sm==3.7.1) (24.2)\n",
            "Requirement already satisfied: langcodes<4.0.0,>=3.2.0 in /usr/local/lib/python3.11/dist-packages (from spacy<3.8.0,>=3.7.2->en-core-web-sm==3.7.1) (3.5.0)\n",
            "Requirement already satisfied: numpy>=1.19.0 in /usr/local/lib/python3.11/dist-packages (from spacy<3.8.0,>=3.7.2->en-core-web-sm==3.7.1) (1.26.4)\n",
            "Requirement already satisfied: language-data>=1.2 in /usr/local/lib/python3.11/dist-packages (from langcodes<4.0.0,>=3.2.0->spacy<3.8.0,>=3.7.2->en-core-web-sm==3.7.1) (1.3.0)\n",
            "Requirement already satisfied: annotated-types>=0.6.0 in /usr/local/lib/python3.11/dist-packages (from pydantic!=1.8,!=1.8.1,<3.0.0,>=1.7.4->spacy<3.8.0,>=3.7.2->en-core-web-sm==3.7.1) (0.7.0)\n",
            "Requirement already satisfied: pydantic-core==2.27.2 in /usr/local/lib/python3.11/dist-packages (from pydantic!=1.8,!=1.8.1,<3.0.0,>=1.7.4->spacy<3.8.0,>=3.7.2->en-core-web-sm==3.7.1) (2.27.2)\n",
            "Requirement already satisfied: typing-extensions>=4.12.2 in /usr/local/lib/python3.11/dist-packages (from pydantic!=1.8,!=1.8.1,<3.0.0,>=1.7.4->spacy<3.8.0,>=3.7.2->en-core-web-sm==3.7.1) (4.12.2)\n",
            "Requirement already satisfied: charset-normalizer<4,>=2 in /usr/local/lib/python3.11/dist-packages (from requests<3.0.0,>=2.13.0->spacy<3.8.0,>=3.7.2->en-core-web-sm==3.7.1) (3.4.1)\n",
            "Requirement already satisfied: idna<4,>=2.5 in /usr/local/lib/python3.11/dist-packages (from requests<3.0.0,>=2.13.0->spacy<3.8.0,>=3.7.2->en-core-web-sm==3.7.1) (3.10)\n",
            "Requirement already satisfied: urllib3<3,>=1.21.1 in /usr/local/lib/python3.11/dist-packages (from requests<3.0.0,>=2.13.0->spacy<3.8.0,>=3.7.2->en-core-web-sm==3.7.1) (2.3.0)\n",
            "Requirement already satisfied: certifi>=2017.4.17 in /usr/local/lib/python3.11/dist-packages (from requests<3.0.0,>=2.13.0->spacy<3.8.0,>=3.7.2->en-core-web-sm==3.7.1) (2024.12.14)\n",
            "Requirement already satisfied: blis<0.8.0,>=0.7.8 in /usr/local/lib/python3.11/dist-packages (from thinc<8.3.0,>=8.2.2->spacy<3.8.0,>=3.7.2->en-core-web-sm==3.7.1) (0.7.11)\n",
            "Requirement already satisfied: confection<1.0.0,>=0.0.1 in /usr/local/lib/python3.11/dist-packages (from thinc<8.3.0,>=8.2.2->spacy<3.8.0,>=3.7.2->en-core-web-sm==3.7.1) (0.1.5)\n",
            "Requirement already satisfied: click>=8.0.0 in /usr/local/lib/python3.11/dist-packages (from typer<1.0.0,>=0.3.0->spacy<3.8.0,>=3.7.2->en-core-web-sm==3.7.1) (8.1.8)\n",
            "Requirement already satisfied: shellingham>=1.3.0 in /usr/local/lib/python3.11/dist-packages (from typer<1.0.0,>=0.3.0->spacy<3.8.0,>=3.7.2->en-core-web-sm==3.7.1) (1.5.4)\n",
            "Requirement already satisfied: rich>=10.11.0 in /usr/local/lib/python3.11/dist-packages (from typer<1.0.0,>=0.3.0->spacy<3.8.0,>=3.7.2->en-core-web-sm==3.7.1) (13.9.4)\n",
            "Requirement already satisfied: cloudpathlib<1.0.0,>=0.7.0 in /usr/local/lib/python3.11/dist-packages (from weasel<0.5.0,>=0.1.0->spacy<3.8.0,>=3.7.2->en-core-web-sm==3.7.1) (0.20.0)\n",
            "Requirement already satisfied: smart-open<8.0.0,>=5.2.1 in /usr/local/lib/python3.11/dist-packages (from weasel<0.5.0,>=0.1.0->spacy<3.8.0,>=3.7.2->en-core-web-sm==3.7.1) (7.1.0)\n",
            "Requirement already satisfied: MarkupSafe>=2.0 in /usr/local/lib/python3.11/dist-packages (from jinja2->spacy<3.8.0,>=3.7.2->en-core-web-sm==3.7.1) (3.0.2)\n",
            "Requirement already satisfied: marisa-trie>=1.1.0 in /usr/local/lib/python3.11/dist-packages (from language-data>=1.2->langcodes<4.0.0,>=3.2.0->spacy<3.8.0,>=3.7.2->en-core-web-sm==3.7.1) (1.2.1)\n",
            "Requirement already satisfied: markdown-it-py>=2.2.0 in /usr/local/lib/python3.11/dist-packages (from rich>=10.11.0->typer<1.0.0,>=0.3.0->spacy<3.8.0,>=3.7.2->en-core-web-sm==3.7.1) (3.0.0)\n",
            "Requirement already satisfied: pygments<3.0.0,>=2.13.0 in /usr/local/lib/python3.11/dist-packages (from rich>=10.11.0->typer<1.0.0,>=0.3.0->spacy<3.8.0,>=3.7.2->en-core-web-sm==3.7.1) (2.18.0)\n",
            "Requirement already satisfied: wrapt in /usr/local/lib/python3.11/dist-packages (from smart-open<8.0.0,>=5.2.1->weasel<0.5.0,>=0.1.0->spacy<3.8.0,>=3.7.2->en-core-web-sm==3.7.1) (1.17.0)\n",
            "Requirement already satisfied: mdurl~=0.1 in /usr/local/lib/python3.11/dist-packages (from markdown-it-py>=2.2.0->rich>=10.11.0->typer<1.0.0,>=0.3.0->spacy<3.8.0,>=3.7.2->en-core-web-sm==3.7.1) (0.1.2)\n",
            "\u001b[38;5;2m✔ Download and installation successful\u001b[0m\n",
            "You can now load the package via spacy.load('en_core_web_sm')\n",
            "\u001b[38;5;3m⚠ Restart to reload dependencies\u001b[0m\n",
            "If you are in a Jupyter or Colab notebook, you may need to restart Python in\n",
            "order to load all the package's dependencies. You can do this by selecting the\n",
            "'Restart kernel' or 'Restart runtime' option.\n"
          ]
        }
      ]
    },
    {
      "cell_type": "code",
      "source": [
        "import spacy\n",
        "\n",
        "# Load the spaCy model\n",
        "nlp = spacy.load(\"en_core_web_sm\")\n"
      ],
      "metadata": {
        "id": "KfHLAUlHbY2y"
      },
      "execution_count": null,
      "outputs": []
    },
    {
      "cell_type": "code",
      "source": [
        "def preprocess_text(text):\n",
        "    # Convert text to lowercase and remove extra spaces\n",
        "    return text.strip().lower()\n"
      ],
      "metadata": {
        "id": "eM_Hd-FMbd6E"
      },
      "execution_count": null,
      "outputs": []
    },
    {
      "cell_type": "code",
      "source": [
        "def extract_entities(text):\n",
        "    # Process the text using spaCy\n",
        "    doc = nlp(text)\n",
        "\n",
        "    # Extract named entities\n",
        "    entities = [ent.text for ent in doc.ents]\n",
        "    return entities\n"
      ],
      "metadata": {
        "id": "kk76B27nbjdv"
      },
      "execution_count": null,
      "outputs": []
    },
    {
      "cell_type": "code",
      "source": [
        "def get_response(text):\n",
        "    # Simple responses based on keywords\n",
        "    text = preprocess_text(text)\n",
        "\n",
        "    # If the user says 'hello', respond with 'Hello, how can I assist you?'\n",
        "    if \"hello\" in text:\n",
        "        return \"Hello! How can I assist you today?\"\n",
        "\n",
        "    # If the user mentions their name, respond with a personalized message\n",
        "    entities = extract_entities(text)\n",
        "    if entities:\n",
        "        return f\"Nice to meet you, {entities[0]}!\"\n",
        "\n",
        "    # If the user says 'bye', respond with 'Goodbye!'\n",
        "    if \"bye\" in text:\n",
        "        return \"Goodbye! Have a great day!\"\n",
        "\n",
        "    # Default response\n",
        "    return \"Sorry, I didn't understand that.\"\n"
      ],
      "metadata": {
        "id": "tdEyO0mybpge"
      },
      "execution_count": null,
      "outputs": []
    },
    {
      "cell_type": "code",
      "source": [
        "def chatbot():\n",
        "    print(\"Chatbot: Hello! Type 'bye' to exit.\")\n",
        "\n",
        "    while True:\n",
        "        # Get input from the user\n",
        "        user_input = input(\"You: \")\n",
        "\n",
        "        # Check if the user wants to exit\n",
        "        if \"bye\" in preprocess_text(user_input):\n",
        "            print(\"Chatbot: Goodbye! Have a great day!\")\n",
        "            break\n",
        "\n",
        "        # Get the bot's response\n",
        "        response = get_response(user_input)\n",
        "\n",
        "        # Print the bot's response\n",
        "        print(f\"Chatbot: {response}\")\n"
      ],
      "metadata": {
        "id": "bBoyHd75buam"
      },
      "execution_count": null,
      "outputs": []
    },
    {
      "cell_type": "code",
      "source": [
        "# Start the chatbot\n",
        "chatbot()\n"
      ],
      "metadata": {
        "colab": {
          "base_uri": "https://localhost:8080/"
        },
        "id": "BiWqEbaAby5l",
        "outputId": "d1343170-8fee-47a0-839e-e80e4262b8b5"
      },
      "execution_count": null,
      "outputs": [
        {
          "output_type": "stream",
          "name": "stdout",
          "text": [
            "Chatbot: Hello! Type 'bye' to exit.\n",
            "You: Hello\n",
            "Chatbot: Hello! How can I assist you today?\n",
            "You: I am Anushka\n",
            "Chatbot: Sorry, I didn't understand that.\n",
            "You: My name is Anushka\n",
            "Chatbot: Sorry, I didn't understand that.\n",
            "You: My name in John\n",
            "Chatbot: Sorry, I didn't understand that.\n",
            "You: bye\n",
            "Chatbot: Goodbye! Have a great day!\n"
          ]
        }
      ]
    }
  ]
}